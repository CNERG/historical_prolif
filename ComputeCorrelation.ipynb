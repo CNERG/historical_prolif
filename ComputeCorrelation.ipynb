{
 "cells": [
  {
   "cell_type": "code",
   "execution_count": 1,
   "metadata": {
    "collapsed": false
   },
   "outputs": [],
   "source": [
    "import correlation_matrix as co\n",
    "import numpy as np"
   ]
  },
  {
   "cell_type": "code",
   "execution_count": 2,
   "metadata": {
    "collapsed": false
   },
   "outputs": [
    {
     "name": "stdout",
     "output_type": "stream",
     "text": [
      "Auth    \t0.373356632574\n",
      "Mil_Iso \t0.232872309343\n",
      "Reactor \t0.547075093173\n",
      "En_Repr \t0.316654400789\n",
      "Sci_Net \t0.153276071934\n",
      "Mil_Sp  \t0.653810667907\n",
      "Conflict \t0.820962537777\n",
      "U_Res   \t-0.0443418129507\n"
     ]
    }
   ],
   "source": [
    "mn_status = 0 # do not use status = -1 (2015 data for states that gave up pursuit)\n",
    "mx_status = 2 # do not use status = 3 (acquire date results, not correlated to pursuit decision)\n",
    "correl_min = 1e-6 # correlation values below this (or negative) will be reset to zero, so they have no effect\n",
    "\n",
    "filename = 'historical_factors.csv'\n",
    "#filename = 'postreactor_test.csv'\n",
    "#filename = 'noreactor_test.csv'\n",
    "data_file = open(filename, 'r')\n",
    "full_matrix = np.loadtxt(data_file, skiprows=1,usecols=(2,3,4,5,6,7,8,9,10))\n",
    "#full_matrix = np.loadtxt(data_file, skiprows=1,usecols=(2,3,4,5,6,7,8,9))\n",
    "relevant_mask = ((full_matrix[:,0] >= mn_status) & (full_matrix[:,0] <= mx_status))\n",
    "matrix = full_matrix[relevant_mask]\n",
    "\n",
    "cor = co.Cor_matrix(matrix)\n",
    "factor = np.array(cor[0,1:])[0]\n",
    "f_list = (\"Auth   \", \"Mil_Iso\", \"Reactor\", \"En_Repr\",  \"Sci_Net\", \"Mil_Sp \", \"Conflict\",\"U_Res  \")\n",
    "#f_list = (\"Auth   \", \"Mil_Iso\", \"En_Repr\",  \"Sci_Net\", \"Mil_Sp \", \"Conflict\",\"U_Res  \")\n",
    "\n",
    "for i in range(len(factor)):\n",
    "    print f_list[i], \"\\t\", factor[i]\n"
   ]
  },
  {
   "cell_type": "code",
   "execution_count": 3,
   "metadata": {
    "collapsed": false,
    "scrolled": false
   },
   "outputs": [],
   "source": [
    "data_file = open(filename, 'r')\n",
    "lines = data_file.readlines()\n",
    "mn = 100\n",
    "mx = 0\n",
    "for line in lines[1:]:\n",
    "    words = line.split('\\t');\n",
    "    name = words[0] + '_' + words[1]\n",
    "    # skip countries acquisition scores (status=3) because they aren't correlated to anything relevant here\n",
    "    # also skip -1's because the negative status may mess up the correlation and it's a marginally relevant dataset\n",
    "    if ((float(words[2]) >= mn_status) and (float(words[2]) <= mx_status)):\n",
    "        weight = words[3:]\n",
    "        weight = [float(i) for i in weight]\n",
    "        score = co.Compute_Score(weight,factor)\n",
    "        if (score < mn):\n",
    "            mn = score\n",
    "        elif (score > mx):\n",
    "            mx = score"
   ]
  },
  {
   "cell_type": "code",
   "execution_count": 4,
   "metadata": {
    "collapsed": false
   },
   "outputs": [
    {
     "name": "stdout",
     "output_type": "stream",
     "text": [
      "Country \t Cal \t Bib \t Dif\n",
      "Belarus_2015 \t13.0 \t0.0 \t\n",
      "Germany_2015 \t5.0 \t0.0 \t\n",
      "Japan_2015 \t7.0 \t0.0 \t\n",
      "Armenia_2015 \t16.0 \t0.0 \t\n",
      "Belgium_2015 \t0.0 \t0.0 \t\n",
      "Bulgar_2015 \t5.0 \t0.0 \t\n",
      "Canada_2015 \t0.0 \t0.0 \t\n",
      "Czech-R_2015 \t1.0 \t0.0 \t\n",
      "Finland_2015 \t5.0 \t0.0 \t\n",
      "Hungary_2015 \t2.0 \t0.0 \t\n",
      "Kazak_2015 \t8.0 \t0.0 \t\n",
      "Lithua_2015 \t8.0 \t0.0 \t\n",
      "Mexico_2015 \t4.0 \t0.0 \t\n",
      "Nether_2015 \t7.0 \t0.0 \t\n",
      "Saudi-A_2015 \t22.0 \t0.0 \t\n",
      "Slovak_2015 \t3.0 \t0.0 \t\n",
      "Spain_2015 \t2.0 \t0.0 \t\n",
      "Ukraine_2015 \t8.0 \t0.0 \t\n",
      "UAE_2015 \t21.0 \t0.0 \t\n",
      "Sweden_2015 \t3.0 \t0.0 \t\n",
      "Switz_2015 \t2.0 \t0.0 \t\n",
      "Indones_2015 \t6.0 \t0.0 \t\n",
      "Algeria_2015 \t15.0 \t0.0 \t\n",
      "Romania_2015 \t4.0 \t0.0 \t\n",
      "Sweden_1946 \t15.0 \t1.0 \t\n",
      "Switz_1946 \t13.0 \t1.0 \t\n",
      "Indones_1965 \t13.0 \t1.0 \t\n",
      "Algeria_1983 \t21.0 \t1.0 \t\n",
      "Romania_1985 \t13.0 \t1.0 \t\n",
      "Austral_1961 \t11.0 \t2.0 \t\n",
      "Egypt_1965 \t24.0 \t2.0 \t\n",
      "Libya_1970 \t25.0 \t2.0 \t\n",
      "S-Korea_1970 \t13.0 \t2.0 \t\n",
      "Argent_1978 \t19.0 \t2.0 \t\n",
      "Brazil_1978 \t12.0 \t2.0 \t\n",
      "Iraq_1983 \t28.0 \t2.0 \t\n",
      "Iran_1985 \t28.0 \t2.0 \t\n",
      "Syria_2000 \t23.0 \t2.0 \t\n",
      "US_1942 \t21.0 \t2.0 \t\n",
      "USSR_1945 \t30.0 \t2.0 \t\n",
      "UK_1947 \t19.0 \t2.0 \t\n",
      "France_1954 \t22.0 \t2.0 \t\n",
      "China_1955 \t20.0 \t2.0 \t\n",
      "Israel_1960 \t20.0 \t2.0 \t\n",
      "India_1964 \t21.0 \t2.0 \t\n",
      "Pakist_1972 \t17.0 \t2.0 \t\n",
      "S-Afric_1974 \t19.0 \t2.0 \t\n",
      "N-Korea_1980 \t26.0 \t2.0 \t\n"
     ]
    }
   ],
   "source": [
    "data_file = open(filename, 'r')\n",
    "lines = data_file.readlines()\n",
    "print( 'Country \\t Cal \\t Bib \\t Dif')\n",
    "for line in lines[1:]:\n",
    "    words = line.split('\\t');\n",
    "    name = words[0] + '_' + words[1]\n",
    "    if ((float(words[2]) >= mn_status) and (float(words[2]) <= mx_status)):\n",
    "        weight = words[3:]\n",
    "        weight = [float(i) for i in weight]\n",
    "        score = co.Compute_Score(weight,factor)\n",
    "        cal_sc = round((score - mn)/(mx -mn)*30)\n",
    "        print name, \"\\t\", cal_sc, '\\t', words[2],'\\t' #, cal_sc-(float(words[2])*10)"
   ]
  },
  {
   "cell_type": "raw",
   "metadata": {
    "collapsed": true
   },
   "source": [
    "# CORRECT FULL ASSESSMENT:\n",
    "# looking at 0,1,2 (includes countries that haven't pursued)\n",
    "Auth    \t0.373356632574\n",
    "Mil_Iso \t0.232872309343\n",
    "Reactor \t-0.547075093173\n",
    "En_Repr \t0.316654400789\n",
    "Sci_Net \t0.153276071934\n",
    "Mil_Sp  \t0.653810667907\n",
    "Conflict \t0.0612444298104\n",
    "U_Res   \t-0.0443418129507\n",
    "\n",
    "# Excluding US 1942(pursuit) from the analysis\n",
    "Auth    \t0.400954127305\n",
    "Mil_Iso \t0.227239545169\n",
    "Reactor \t-0.530719785766\n",
    "En_Repr \t0.338186538485\n",
    "Sci_Net \t0.123302270056\n",
    "Mil_Sp  \t0.642358825048\n",
    "Conflict \t0.0490435140176\n",
    "U_Res   \t-0.065984525834\n",
    "\n",
    "\n",
    "# Excluding reactor data (noreactor_test)\n",
    "Auth    \t0.373356632574\n",
    "Mil_Iso \t0.232872309343\n",
    "En_Repr \t0.316654400789\n",
    "Sci_Net \t0.153276071934\n",
    "Mil_Sp  \t0.653810667907\n",
    "Conflict \t0.0612444298104\n",
    "U_Res   \t-0.0443418129507\n",
    "\n",
    "# Looking only at states that pursued after 1965 (postreactor_test)\n",
    "Auth    \t0.548561422466\n",
    "Mil_Iso \t0.261492965407\n",
    "Reactor \t-0.422998285844\n",
    "En_Repr \t0.410064930872\n",
    "Sci_Net \t-0.0317517512246\n",
    "Mil_Sp  \t0.569401466399\n",
    "Conflict \t-0.225465503146\n",
    "U_Res   \t-0.0924126508345\n",
    "\n",
    "# only looking at 1 and 2 (explore and pursue) \n",
    "# -- This doesn't make sense because PCA code must compare\n",
    "#    between states that did and did not pursue\n",
    "#\n",
    "Auth    \t-0.0146586038571\n",
    "Mil_Iso \t-0.175188768929\n",
    "Reactor \t0.12387733004\n",
    "En_Repr \t0.0173421993905\n",
    "Sci_Net \t0.301624673409\n",
    "Mil_Sp  \t0.611843446272\n",
    "Conflict \t0.410526315789\n",
    "U_Res   \t-0.0173421993905"
   ]
  },
  {
   "cell_type": "code",
   "execution_count": 5,
   "metadata": {
    "collapsed": false,
    "scrolled": true
   },
   "outputs": [
    {
     "name": "stdout",
     "output_type": "stream",
     "text": [
      "[ 0.37  0.23  0.55  0.32  0.15  0.65  0.82 -0.04]\n",
      "Auth    \t0.120515075204\n",
      "Mil_Iso \t0.0751684084996\n",
      "Reactor \t0.176589325711\n",
      "En_Repr \t0.102212269973\n",
      "Sci_Net \t0.0494756908663\n",
      "Mil_Sp  \t0.211042298267\n",
      "Conflict \t0.26499693148\n",
      "U_Res   \t0.0\n"
     ]
    }
   ],
   "source": [
    "print factor\n",
    "\n",
    "weights = factor\n",
    "weights[factor < correl_min] = 0\n",
    "f_tot = weights.sum()\n",
    "weights = weights/f_tot  # normalize weights to sum to one\n",
    "\n",
    "for i in range(len(weights)):\n",
    "    print f_list[i], \"\\t\", weights[i]"
   ]
  },
  {
   "cell_type": "code",
   "execution_count": 6,
   "metadata": {
    "collapsed": false
   },
   "outputs": [
    {
     "name": "stdout",
     "output_type": "stream",
     "text": [
      "Belarus \t4.4081\n",
      "Germany \t2.469\n",
      "Japan \t3.0346\n",
      "Armenia \t5.0012\n",
      "Belgium \t0.9708\n",
      "Bulgar \t2.3579\n",
      "Canada \t1.1818\n",
      "Czech-R \t1.2984\n",
      "Finland \t2.5047\n",
      "Hungary \t1.6171\n",
      "Kazak \t3.0794\n",
      "Lithua \t3.0643\n",
      "Mexico \t2.0287\n",
      "Nether \t2.7337\n",
      "Saudi-A \t6.5442\n",
      "Slovak \t1.8282\n",
      "Spain \t1.5632\n",
      "Ukraine \t3.1507\n",
      "UAE \t6.3051\n",
      "Sweden \t1.9749\n",
      "Switz \t1.4989\n",
      "Indones \t2.675\n",
      "Algeria \t4.8847\n",
      "Romania \t2.2097\n",
      "Sweden \t4.796\n",
      "Switz \t4.4279\n",
      "Indones \t4.4407\n",
      "Algeria \t6.6426\n",
      "Romania \t4.4948\n",
      "Austral \t3.8757\n",
      "Egypt \t7.273\n",
      "Libya \t7.4493\n",
      "S-Korea \t4.3643\n",
      "Argent \t6.0935\n",
      "Brazil \t4.2875\n",
      "Iraq \t8.1545\n",
      "Iran \t8.323\n",
      "Syria \t6.8914\n",
      "US \t6.4872\n",
      "USSR \t8.859\n",
      "UK \t5.8464\n",
      "France \t6.7933\n",
      "China \t6.3277\n",
      "Israel \t6.1962\n",
      "India \t6.4368\n",
      "Pakist \t5.2904\n",
      "S-Afric \t5.8925\n",
      "N-Korea \t7.7035\n",
      "US \t6.538\n",
      "USSR \t8.594\n",
      "UK \t6.3385\n",
      "France \t5.4125\n",
      "China \t7.0116\n",
      "Israel \t6.4233\n",
      "India \t4.4657\n",
      "Pakist \t6.2646\n",
      "S-Afric \t5.2083\n",
      "N-Korea \t7.1042\n"
     ]
    }
   ],
   "source": [
    "from gen_fns import get_data\n",
    "from hist_bench import calc_pursuit\n",
    "\n",
    "#factor_weights = np.array([0.15, 0.1, 0.16, 0.09, 0.1,0.1, 0.15, 0.15])\n",
    "\n",
    "countries, col_names, all_vals = get_data(filename, n_header=1, col_list=range(2,11))\n",
    "status = all_vals[:,0]\n",
    "raw_data = np.delete(all_vals, 0, 1)\n",
    "all_pe_vals = calc_pursuit(raw_data, weights)\n",
    "\n",
    "for i in range(len(countries)):\n",
    "    print countries[i], \"\\t\", all_pe_vals[i]\n"
   ]
  },
  {
   "cell_type": "raw",
   "metadata": {},
   "source": [
    "            Chris  Historical Results\n",
    "Auth    \t0.15   0.208437699671\n",
    "Mil_Iso \t0.10   0.130008051932\n",
    "Reactor \t0.10   0.0\n",
    "En_Repr \t0.16   0.176781953588\n",
    "Sci_Net \t0.10   0.0855710306482\n",
    "Mil_Sp  \t0.15   0.365009697831\n",
    "Conflict \t0.10   0.0341915663299\n",
    "U_Res   \t0.09   0.0"
   ]
  }
 ],
 "metadata": {
  "kernelspec": {
   "display_name": "Python 2",
   "language": "python",
   "name": "python2"
  },
  "language_info": {
   "codemirror_mode": {
    "name": "ipython",
    "version": 2
   },
   "file_extension": ".py",
   "mimetype": "text/x-python",
   "name": "python",
   "nbconvert_exporter": "python",
   "pygments_lexer": "ipython2",
   "version": "2.7.10"
  }
 },
 "nbformat": 4,
 "nbformat_minor": 1
}
