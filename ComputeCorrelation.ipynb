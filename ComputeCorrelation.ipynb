{
 "cells": [
  {
   "cell_type": "code",
   "execution_count": 8,
   "metadata": {
    "collapsed": false
   },
   "outputs": [],
   "source": [
    "import correlation_matrix as co\n",
    "import numpy as np"
   ]
  },
  {
   "cell_type": "code",
   "execution_count": 9,
   "metadata": {
    "collapsed": false
   },
   "outputs": [
    {
     "name": "stdout",
     "output_type": "stream",
     "text": [
      "Auth    \t0.373356632574\n",
      "Mil_Iso \t0.232872309343\n",
      "Reactor \t-0.547075093173\n",
      "En_Repr \t0.316654400789\n",
      "Sci_Net \t-3.61425634125e-16\n",
      "Mil_Sp  \t0.653810667907\n",
      "Conflict \t0.0612444298104\n",
      "U_Res   \t-0.0443418129507\n"
     ]
    }
   ],
   "source": [
    "mn_status = 0 # do not use status = -1 (2015 data for states that gave up pursuit)\n",
    "mx_status = 2 # do not use status = 3 (acquire date results, not correlated to pursuit decision)\n",
    "correl_min = 1e-6 # correlation values below this (or negative) will be reset to zero, so they have no effect\n",
    "\n",
    "filename = 'historical_factors.csv'\n",
    "#filename = 'noreactor_test.csv'\n",
    "data_file = open(filename, 'r')\n",
    "full_matrix = np.loadtxt(data_file, skiprows=1,usecols=(2,3,4,5,6,7,8,9,10))\n",
    "#full_matrix = np.loadtxt(data_file, skiprows=1,usecols=(2,3,4,5,6,7,8,9))\n",
    "relevant_mask = ((full_matrix[:,0] >= mn_status) & (full_matrix[:,0] <= mx_status))\n",
    "matrix = full_matrix[relevant_mask]\n",
    "\n",
    "cor = co.Cor_matrix(matrix)\n",
    "factor = np.array(cor[0,1:])[0]\n",
    "f_list = (\"Auth   \", \"Mil_Iso\", \"Reactor\", \"En_Repr\",  \"Sci_Net\", \"Mil_Sp \", \"Conflict\",\"U_Res  \")\n",
    "#f_list = (\"Auth   \", \"Mil_Iso\", \"En_Repr\",  \"Sci_Net\", \"Mil_Sp \", \"Conflict\",\"U_Res  \")\n",
    "\n",
    "for i in range(len(factor)):\n",
    "    print f_list[i], \"\\t\", factor[i]\n"
   ]
  },
  {
   "cell_type": "code",
   "execution_count": 10,
   "metadata": {
    "collapsed": false,
    "scrolled": false
   },
   "outputs": [],
   "source": [
    "data_file = open(filename, 'r')\n",
    "lines = data_file.readlines()\n",
    "mn = 100\n",
    "mx = 0\n",
    "for line in lines[1:]:\n",
    "    words = line.split('\\t');\n",
    "    name = words[0] + '_' + words[1]\n",
    "    # skip countries acquisition scores (status=3) because they aren't correlated to anything relevant here\n",
    "    # also skip -1's because the negative status may mess up the correlation and it's a marginally relevant dataset\n",
    "    if ((float(words[2]) >= mn_status) and (float(words[2]) <= mx_status)):\n",
    "        weight = words[3:]\n",
    "        weight = [float(i) for i in weight]\n",
    "        score = co.Compute_Score(weight,factor)\n",
    "        if (score < mn):\n",
    "            mn = score\n",
    "        elif (score > mx):\n",
    "            mx = score"
   ]
  },
  {
   "cell_type": "code",
   "execution_count": 11,
   "metadata": {
    "collapsed": false
   },
   "outputs": [
    {
     "name": "stdout",
     "output_type": "stream",
     "text": [
      "Country \t Cal \t Bib \t Dif\n",
      "Belarus_2015 \t13.0 \t0.0 \t\n",
      "Germany_2015 \t5.0 \t0.0 \t\n",
      "Japan_2015 \t7.0 \t0.0 \t\n",
      "Armenia_2015 \t15.0 \t0.0 \t\n",
      "Belgium_2015 \t0.0 \t0.0 \t\n",
      "Bulgar_2015 \t6.0 \t0.0 \t\n",
      "Canada_2015 \t0.0 \t0.0 \t\n",
      "Czech-R_2015 \t0.0 \t0.0 \t\n",
      "Finland_2015 \t6.0 \t0.0 \t\n",
      "Hungary_2015 \t2.0 \t0.0 \t\n",
      "Kazak_2015 \t9.0 \t0.0 \t\n",
      "Lithua_2015 \t9.0 \t0.0 \t\n",
      "Mexico_2015 \t5.0 \t0.0 \t\n",
      "Nether_2015 \t9.0 \t0.0 \t\n",
      "Saudi-A_2015 \t25.0 \t0.0 \t\n",
      "Slovak_2015 \t3.0 \t0.0 \t\n",
      "Spain_2015 \t3.0 \t0.0 \t\n",
      "Ukraine_2015 \t9.0 \t0.0 \t\n",
      "UAE_2015 \t24.0 \t0.0 \t\n",
      "Sweden_2015 \t4.0 \t0.0 \t\n",
      "Switz_2015 \t3.0 \t0.0 \t\n",
      "Indones_2015 \t8.0 \t0.0 \t\n",
      "Algeria_2015 \t17.0 \t0.0 \t\n",
      "Romania_2015 \t3.0 \t0.0 \t\n",
      "Sweden_1946 \t18.0 \t1.0 \t\n",
      "Switz_1946 \t15.0 \t1.0 \t\n",
      "Indones_1965 \t14.0 \t1.0 \t\n",
      "Algeria_1983 \t22.0 \t1.0 \t\n",
      "Romania_1985 \t13.0 \t1.0 \t\n",
      "Austral_1961 \t9.0 \t2.0 \t\n",
      "Egypt_1965 \t22.0 \t2.0 \t\n",
      "Libya_1970 \t25.0 \t2.0 \t\n",
      "S-Korea_1970 \t13.0 \t2.0 \t\n",
      "Argent_1978 \t18.0 \t2.0 \t\n",
      "Brazil_1978 \t12.0 \t2.0 \t\n",
      "Iraq_1983 \t28.0 \t2.0 \t\n",
      "Iran_1985 \t26.0 \t2.0 \t\n",
      "Syria_2000 \t22.0 \t2.0 \t\n",
      "US_1942 \t20.0 \t2.0 \t\n",
      "USSR_1945 \t30.0 \t2.0 \t\n",
      "UK_1947 \t19.0 \t2.0 \t\n",
      "France_1954 \t22.0 \t2.0 \t\n",
      "China_1955 \t20.0 \t2.0 \t\n",
      "Israel_1960 \t18.0 \t2.0 \t\n",
      "India_1964 \t19.0 \t2.0 \t\n",
      "Pakist_1972 \t16.0 \t2.0 \t\n",
      "S-Afric_1974 \t19.0 \t2.0 \t\n",
      "N-Korea_1980 \t25.0 \t2.0 \t\n"
     ]
    }
   ],
   "source": [
    "data_file = open(filename, 'r')\n",
    "lines = data_file.readlines()\n",
    "print( 'Country \\t Cal \\t Bib \\t Dif')\n",
    "for line in lines[1:]:\n",
    "    words = line.split('\\t');\n",
    "    name = words[0] + '_' + words[1]\n",
    "    if ((float(words[2]) >= mn_status) and (float(words[2]) <= mx_status)):\n",
    "        weight = words[3:]\n",
    "        weight = [float(i) for i in weight]\n",
    "        score = co.Compute_Score(weight,factor)\n",
    "        cal_sc = round((score - mn)/(mx -mn)*30)\n",
    "        print name, \"\\t\", cal_sc, '\\t', words[2],'\\t' #, cal_sc-(float(words[2])*10)"
   ]
  },
  {
   "cell_type": "raw",
   "metadata": {
    "collapsed": true
   },
   "source": [
    "# only looking at 1 and 2 (explore and pursue) \n",
    "# -- This doesn't make sense because PCA code must compare\n",
    "#    between states that did and did not pursue\n",
    "#\n",
    "Auth    \t-0.0146586038571\n",
    "Mil_Iso \t-0.175188768929\n",
    "Reactor \t0.12387733004\n",
    "En_Repr \t0.0173421993905\n",
    "Sci_Net \tnan\n",
    "Mil_Sp  \t0.611843446272\n",
    "Conflict \t0.410526315789\n",
    "U_Res   \t-0.0173421993905\n",
    "\n",
    "# looking at 0,1,2 (includes countries that haven't pursued)\n",
    "Auth    \t0.373356632574\n",
    "Mil_Iso \t0.232872309343\n",
    "Reactor \t-0.547075093173\n",
    "En_Repr \t0.316654400789\n",
    "Sci_Net \t-3.61425634125e-16\n",
    "Mil_Sp  \t0.653810667907\n",
    "Conflict \t0.0612444298104\n",
    "U_Res   \t-0.0443418129507\n",
    "\n",
    "# Excluding reactor data (noreactor_test)\n",
    "Auth    \t0.373356632574\n",
    "Mil_Iso \t0.232872309343\n",
    "En_Repr \t0.316654400789\n",
    "Sci_Net \t-3.61425634125e-16\n",
    "Mil_Sp  \t0.653810667907\n",
    "Conflict \t0.0612444298104\n",
    "U_Res   \t-0.0443418129507\n"
   ]
  },
  {
   "cell_type": "code",
   "execution_count": 12,
   "metadata": {
    "collapsed": false
   },
   "outputs": [
    {
     "name": "stdout",
     "output_type": "stream",
     "text": [
      "Auth    \t0.227943018711\n",
      "Mil_Iso \t0.14217403023\n",
      "Reactor \t0.0\n",
      "En_Repr \t0.193324970569\n",
      "Sci_Net \t0.0\n",
      "Mil_Sp  \t0.39916681346\n",
      "Conflict \t0.0373911670298\n",
      "U_Res   \t0.0\n"
     ]
    }
   ],
   "source": [
    "weights = factor\n",
    "weights[factor < correl_min] = 0\n",
    "f_tot = weights.sum()\n",
    "weights = weights/f_tot  # normalize weights to sum to one\n",
    "\n",
    "for i in range(len(weights)):\n",
    "    print f_list[i], \"\\t\", weights[i]"
   ]
  },
  {
   "cell_type": "code",
   "execution_count": null,
   "metadata": {
    "collapsed": true
   },
   "outputs": [],
   "source": []
  }
 ],
 "metadata": {
  "kernelspec": {
   "display_name": "Python 2",
   "language": "python",
   "name": "python2"
  },
  "language_info": {
   "codemirror_mode": {
    "name": "ipython",
    "version": 2
   },
   "file_extension": ".py",
   "mimetype": "text/x-python",
   "name": "python",
   "nbconvert_exporter": "python",
   "pygments_lexer": "ipython2",
   "version": "2.7.10"
  }
 },
 "nbformat": 4,
 "nbformat_minor": 1
}
