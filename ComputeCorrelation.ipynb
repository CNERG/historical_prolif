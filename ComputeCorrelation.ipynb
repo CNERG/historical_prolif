{
 "cells": [
  {
   "cell_type": "code",
   "execution_count": 97,
   "metadata": {
    "collapsed": false
   },
   "outputs": [],
   "source": [
    "import correlation_matrix as co\n",
    "import numpy as np"
   ]
  },
  {
   "cell_type": "code",
   "execution_count": 119,
   "metadata": {
    "collapsed": false
   },
   "outputs": [
    {
     "name": "stdout",
     "output_type": "stream",
     "text": [
      "Auth    \t0.373356632574\n",
      "Mil_Iso \t0.232872309343\n",
      "Reactor \t-0.547075093173\n",
      "En_Repr \t0.316654400789\n",
      "Sci_Net \t-3.61425634125e-16\n",
      "Mil_Sp  \t0.653810667907\n",
      "Conflict \t0.0612444298104\n",
      "U_Res   \t-0.0443418129507\n"
     ]
    }
   ],
   "source": [
    "mn_status = 0 # do not use status = -1 (2015 data for states that gave up pursuit)\n",
    "mx_status = 2 # do not use status = 3 (acquire date results, not correlated to pursuit decision)\n",
    "\n",
    "data_file = open('historical_factors.csv', 'r')\n",
    "full_matrix = np.loadtxt(data_file, skiprows=1,usecols=(2,3,4,5,6,7,8,9,10))\n",
    "relevant_mask = ((matrix[:,0] >= mn_status) & (matrix[:,0] <= mx_status))\n",
    "matrix = full_matrix[relevant_mask]\n",
    "\n",
    "cor = co.Cor_matrix(matrix)\n",
    "factor = np.array(cor[0,1:])[0]\n",
    "f_list = (\"Auth   \", \"Mil_Iso\", \"Reactor\", \"En_Repr\",  \"Sci_Net\", \"Mil_Sp \", \"Conflict\",\"U_Res  \")\n",
    "\n",
    "for i in range(len(factor)):\n",
    "    print f_list[i], \"\\t\", factor[i]\n",
    "    "
   ]
  },
  {
   "cell_type": "code",
   "execution_count": 99,
   "metadata": {
    "collapsed": false,
    "scrolled": false
   },
   "outputs": [],
   "source": [
    "data_file = open('historical_factors.csv', 'r')\n",
    "lines = data_file.readlines()\n",
    "mn = 100\n",
    "mx = 0\n",
    "for line in lines[1:]:\n",
    "    words = line.split('\\t');\n",
    "    name = words[0] + '_' + words[1]\n",
    "    # skip countries acquisition scores (status=3) because they aren't correlated to anything relevant here\n",
    "    # also skip -1's because the negative status may mess up the correlation and it's a marginally relevant dataset\n",
    "    if ((float(words[2]) >= mn_status) and (float(words[2]) <= mx_status)):\n",
    "        weight = words[3:]\n",
    "        weight = [float(i) for i in weight]\n",
    "        score = co.Compute_Score(weight,factor)\n",
    "        if (score < mn):\n",
    "            mn = score\n",
    "        elif (score > mx):\n",
    "            mx = score"
   ]
  },
  {
   "cell_type": "code",
   "execution_count": 103,
   "metadata": {
    "collapsed": false
   },
   "outputs": [
    {
     "name": "stdout",
     "output_type": "stream",
     "text": [
      "Country \t Cal \t Bib \t Dif\n",
      "Belarus_2015 \t13.0 \t0.0 \t\n",
      "Germany_2015 \t5.0 \t0.0 \t\n",
      "Japan_2015 \t7.0 \t0.0 \t\n",
      "Armenia_2015 \t15.0 \t0.0 \t\n",
      "Belgium_2015 \t0.0 \t0.0 \t\n",
      "Bulgar_2015 \t6.0 \t0.0 \t\n",
      "Canada_2015 \t0.0 \t0.0 \t\n",
      "Czech-R_2015 \t0.0 \t0.0 \t\n",
      "Finland_2015 \t6.0 \t0.0 \t\n",
      "Hungary_2015 \t2.0 \t0.0 \t\n",
      "Kazak_2015 \t9.0 \t0.0 \t\n",
      "Lithua_2015 \t9.0 \t0.0 \t\n",
      "Mexico_2015 \t5.0 \t0.0 \t\n",
      "Nether_2015 \t9.0 \t0.0 \t\n",
      "Saudi-A_2015 \t25.0 \t0.0 \t\n",
      "Slovak_2015 \t3.0 \t0.0 \t\n",
      "Spain_2015 \t3.0 \t0.0 \t\n",
      "Ukraine_2015 \t9.0 \t0.0 \t\n",
      "UAE_2015 \t24.0 \t0.0 \t\n",
      "Sweden_2015 \t4.0 \t0.0 \t\n",
      "Switz_2015 \t3.0 \t0.0 \t\n",
      "Indones_2015 \t8.0 \t0.0 \t\n",
      "Algeria_2015 \t17.0 \t0.0 \t\n",
      "Romania_2015 \t3.0 \t0.0 \t\n",
      "Sweden_1946 \t18.0 \t1.0 \t\n",
      "Switz_1946 \t15.0 \t1.0 \t\n",
      "Indones_1965 \t14.0 \t1.0 \t\n",
      "Algeria_1983 \t22.0 \t1.0 \t\n",
      "Romania_1985 \t13.0 \t1.0 \t\n",
      "Austral_1961 \t9.0 \t2.0 \t\n",
      "Egypt_1965 \t22.0 \t2.0 \t\n",
      "Libya_1970 \t25.0 \t2.0 \t\n",
      "S-Korea_1970 \t13.0 \t2.0 \t\n",
      "Argent_1978 \t18.0 \t2.0 \t\n",
      "Brazil_1978 \t12.0 \t2.0 \t\n",
      "Iraq_1983 \t28.0 \t2.0 \t\n",
      "Iran_1985 \t26.0 \t2.0 \t\n",
      "Syria_2000 \t22.0 \t2.0 \t\n",
      "US_1942 \t20.0 \t2.0 \t\n",
      "USSR_1945 \t30.0 \t2.0 \t\n",
      "UK_1947 \t19.0 \t2.0 \t\n",
      "France_1954 \t22.0 \t2.0 \t\n",
      "China_1955 \t20.0 \t2.0 \t\n",
      "Israel_1960 \t18.0 \t2.0 \t\n",
      "India_1964 \t19.0 \t2.0 \t\n",
      "Pakist_1972 \t16.0 \t2.0 \t\n",
      "S-Afric_1974 \t19.0 \t2.0 \t\n",
      "N-Korea_1980 \t25.0 \t2.0 \t\n"
     ]
    }
   ],
   "source": [
    "data_file = open('historical_factors.csv', 'r')\n",
    "lines = data_file.readlines()\n",
    "print( 'Country \\t Cal \\t Bib \\t Dif')\n",
    "for line in lines[1:]:\n",
    "    words = line.split('\\t');\n",
    "    name = words[0] + '_' + words[1]\n",
    "    if ((float(words[2]) >= mn_status) and (float(words[2]) <= mx_status)):\n",
    "        weight = words[3:]\n",
    "        weight = [float(i) for i in weight]\n",
    "        score = co.Compute_Score(weight,factor)\n",
    "        cal_sc = round((score - mn)/(mx -mn)*30)\n",
    "        print name, \"\\t\", cal_sc, '\\t', words[2],'\\t' #, cal_sc-(float(words[2])*10)"
   ]
  },
  {
   "cell_type": "code",
   "execution_count": null,
   "metadata": {
    "collapsed": true
   },
   "outputs": [],
   "source": []
  },
  {
   "cell_type": "code",
   "execution_count": null,
   "metadata": {
    "collapsed": true
   },
   "outputs": [],
   "source": []
  }
 ],
 "metadata": {
  "kernelspec": {
   "display_name": "Python 2",
   "language": "python",
   "name": "python2"
  },
  "language_info": {
   "codemirror_mode": {
    "name": "ipython",
    "version": 2
   },
   "file_extension": ".py",
   "mimetype": "text/x-python",
   "name": "python",
   "nbconvert_exporter": "python",
   "pygments_lexer": "ipython2",
   "version": "2.7.10"
  }
 },
 "nbformat": 4,
 "nbformat_minor": 1
}
