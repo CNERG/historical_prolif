{
 "cells": [
  {
   "cell_type": "code",
   "execution_count": 1,
   "metadata": {
    "collapsed": true
   },
   "outputs": [],
   "source": [
    "import correlation_matrix as co\n",
    "import numpy as np"
   ]
  },
  {
   "cell_type": "code",
   "execution_count": 2,
   "metadata": {
    "collapsed": false
   },
   "outputs": [
    {
     "name": "stdout",
     "output_type": "stream",
     "text": [
      "('Auth   ', '\\t', 0.37335663257377466)\n",
      "('Mil_Iso', '\\t', 0.23287230934325245)\n",
      "('Reactor', '\\t', 0.54707509317303271)\n",
      "('En_Repr', '\\t', 0.31665440078934504)\n",
      "('Sci_Net', '\\t', 0.15327607193445852)\n",
      "('Mil_Sp ', '\\t', 0.65381066790713205)\n",
      "('Conflict', '\\t', 0.82096253777748895)\n",
      "('U_Res  ', '\\t', -0.044341812950695371)\n"
     ]
    }
   ],
   "source": [
    "mn_status = 0 # do not use status = -1 (2015 data for states that gave up pursuit)\n",
    "mx_status = 2 # do not use status = 3 (acquire date results, not correlated to pursuit decision)\n",
    "correl_min = 1e-6 # correlation values below this (or negative) will be reset to zero, so they have no effect\n",
    "\n",
    "filename = 'historical_factors.csv'\n",
    "#filename = 'postreactor_test.csv'\n",
    "#filename = 'noreactor_test.csv'\n",
    "data_file = open(filename, 'r')\n",
    "full_matrix = np.loadtxt(data_file, skiprows=1,usecols=(2,3,4,5,6,7,8,9,10))\n",
    "#full_matrix = np.loadtxt(data_file, skiprows=1,usecols=(2,3,4,5,6,7,8,9))\n",
    "relevant_mask = ((full_matrix[:,0] >= mn_status) & (full_matrix[:,0] <= mx_status))\n",
    "matrix = full_matrix[relevant_mask]\n",
    "\n",
    "cor = co.Cor_matrix(matrix)\n",
    "factor = np.array(cor[0,1:])[0]\n",
    "f_list = (\"Auth   \", \"Mil_Iso\", \"Reactor\", \"En_Repr\",  \"Sci_Net\", \"Mil_Sp \", \"Conflict\",\"U_Res  \")\n",
    "#f_list = (\"Auth   \", \"Mil_Iso\", \"En_Repr\",  \"Sci_Net\", \"Mil_Sp \", \"Conflict\",\"U_Res  \")\n",
    "\n",
    "for i in range(len(factor)):\n",
    "    print(f_list[i], \"\\t\", factor[i])\n"
   ]
  },
  {
   "cell_type": "code",
   "execution_count": 3,
   "metadata": {
    "collapsed": true,
    "scrolled": false
   },
   "outputs": [],
   "source": [
    "data_file = open(filename, 'r')\n",
    "lines = data_file.readlines()\n",
    "mn = 100\n",
    "mx = 0\n",
    "for line in lines[1:]:\n",
    "    words = line.split('\\t');\n",
    "    name = words[0] + '_' + words[1]\n",
    "    # skip countries acquisition scores (status=3) because they aren't correlated to anything relevant here\n",
    "    # also skip -1's because the negative status may mess up the correlation and it's a marginally relevant dataset\n",
    "    if ((float(words[2]) >= mn_status) and (float(words[2]) <= mx_status)):\n",
    "        weight = words[3:]\n",
    "        weight = [float(i) for i in weight]\n",
    "        score = co.Compute_Score(weight,factor)\n",
    "        if (score < mn):\n",
    "            mn = score\n",
    "        elif (score > mx):\n",
    "            mx = score"
   ]
  },
  {
   "cell_type": "code",
   "execution_count": 4,
   "metadata": {
    "collapsed": false
   },
   "outputs": [
    {
     "name": "stdout",
     "output_type": "stream",
     "text": [
      "Country \t Cal \t Bib \t Dif\n",
      "('Belarus_2015', '\\t', 13.0, '\\t', '0.0', '\\t')\n",
      "('Germany_2015', '\\t', 5.0, '\\t', '0.0', '\\t')\n",
      "('Japan_2015', '\\t', 7.0, '\\t', '0.0', '\\t')\n",
      "('Armenia_2015', '\\t', 16.0, '\\t', '0.0', '\\t')\n",
      "('Belgium_2015', '\\t', 0.0, '\\t', '0.0', '\\t')\n",
      "('Bulgar_2015', '\\t', 5.0, '\\t', '0.0', '\\t')\n",
      "('Canada_2015', '\\t', 0.0, '\\t', '0.0', '\\t')\n",
      "('Czech-R_2015', '\\t', 1.0, '\\t', '0.0', '\\t')\n",
      "('Finland_2015', '\\t', 5.0, '\\t', '0.0', '\\t')\n",
      "('Hungary_2015', '\\t', 2.0, '\\t', '0.0', '\\t')\n",
      "('Kazak_2015', '\\t', 8.0, '\\t', '0.0', '\\t')\n",
      "('Lithua_2015', '\\t', 8.0, '\\t', '0.0', '\\t')\n",
      "('Mexico_2015', '\\t', 4.0, '\\t', '0.0', '\\t')\n",
      "('Nether_2015', '\\t', 7.0, '\\t', '0.0', '\\t')\n",
      "('Saudi-A_2015', '\\t', 22.0, '\\t', '0.0', '\\t')\n",
      "('Slovak_2015', '\\t', 3.0, '\\t', '0.0', '\\t')\n",
      "('Spain_2015', '\\t', 2.0, '\\t', '0.0', '\\t')\n",
      "('Ukraine_2015', '\\t', 8.0, '\\t', '0.0', '\\t')\n",
      "('UAE_2015', '\\t', 21.0, '\\t', '0.0', '\\t')\n",
      "('Sweden_2015', '\\t', 3.0, '\\t', '0.0', '\\t')\n",
      "('Switz_2015', '\\t', 2.0, '\\t', '0.0', '\\t')\n",
      "('Indones_2015', '\\t', 6.0, '\\t', '0.0', '\\t')\n",
      "('Algeria_2015', '\\t', 15.0, '\\t', '0.0', '\\t')\n",
      "('Romania_2015', '\\t', 4.0, '\\t', '0.0', '\\t')\n",
      "('Sweden_1946', '\\t', 15.0, '\\t', '1.0', '\\t')\n",
      "('Switz_1946', '\\t', 13.0, '\\t', '1.0', '\\t')\n",
      "('Indones_1965', '\\t', 13.0, '\\t', '1.0', '\\t')\n",
      "('Algeria_1983', '\\t', 21.0, '\\t', '1.0', '\\t')\n",
      "('Romania_1985', '\\t', 13.0, '\\t', '1.0', '\\t')\n",
      "('Austral_1961', '\\t', 11.0, '\\t', '2.0', '\\t')\n",
      "('Egypt_1965', '\\t', 24.0, '\\t', '2.0', '\\t')\n",
      "('Libya_1970', '\\t', 25.0, '\\t', '2.0', '\\t')\n",
      "('S-Korea_1970', '\\t', 13.0, '\\t', '2.0', '\\t')\n",
      "('Argent_1978', '\\t', 19.0, '\\t', '2.0', '\\t')\n",
      "('Brazil_1978', '\\t', 12.0, '\\t', '2.0', '\\t')\n",
      "('Iraq_1983', '\\t', 28.0, '\\t', '2.0', '\\t')\n",
      "('Iran_1985', '\\t', 28.0, '\\t', '2.0', '\\t')\n",
      "('Syria_2000', '\\t', 23.0, '\\t', '2.0', '\\t')\n",
      "('US_1942', '\\t', 21.0, '\\t', '2.0', '\\t')\n",
      "('USSR_1945', '\\t', 30.0, '\\t', '2.0', '\\t')\n",
      "('UK_1947', '\\t', 19.0, '\\t', '2.0', '\\t')\n",
      "('France_1954', '\\t', 22.0, '\\t', '2.0', '\\t')\n",
      "('China_1955', '\\t', 20.0, '\\t', '2.0', '\\t')\n",
      "('Israel_1960', '\\t', 20.0, '\\t', '2.0', '\\t')\n",
      "('India_1964', '\\t', 21.0, '\\t', '2.0', '\\t')\n",
      "('Pakist_1972', '\\t', 17.0, '\\t', '2.0', '\\t')\n",
      "('S-Afric_1974', '\\t', 19.0, '\\t', '2.0', '\\t')\n",
      "('N-Korea_1980', '\\t', 26.0, '\\t', '2.0', '\\t')\n"
     ]
    }
   ],
   "source": [
    "data_file = open(filename, 'r')\n",
    "lines = data_file.readlines()\n",
    "print( 'Country \\t Cal \\t Bib \\t Dif')\n",
    "for line in lines[1:]:\n",
    "    words = line.split('\\t');\n",
    "    name = words[0] + '_' + words[1]\n",
    "    if ((float(words[2]) >= mn_status) and (float(words[2]) <= mx_status)):\n",
    "        weight = words[3:]\n",
    "        weight = [float(i) for i in weight]\n",
    "        score = co.Compute_Score(weight,factor)\n",
    "        cal_sc = round((score - mn)/(mx -mn)*30)\n",
    "        print(name, \"\\t\", cal_sc, '\\t', words[2],'\\t') #, cal_sc-(float(words[2])*10)"
   ]
  },
  {
   "cell_type": "raw",
   "metadata": {
    "collapsed": true
   },
   "source": [
    "# CORRECT FULL ASSESSMENT:\n",
    "# looking at 0,1,2 (includes countries that haven't pursued)\n",
    "Auth    \t0.373356632574\n",
    "Mil_Iso \t0.232872309343\n",
    "Reactor \t-0.547075093173\n",
    "En_Repr \t0.316654400789\n",
    "Sci_Net \t0.153276071934\n",
    "Mil_Sp  \t0.653810667907\n",
    "Conflict \t0.0612444298104\n",
    "U_Res   \t-0.0443418129507\n",
    "\n",
    "# Excluding US 1942(pursuit) from the analysis\n",
    "Auth    \t0.400954127305\n",
    "Mil_Iso \t0.227239545169\n",
    "Reactor \t-0.530719785766\n",
    "En_Repr \t0.338186538485\n",
    "Sci_Net \t0.123302270056\n",
    "Mil_Sp  \t0.642358825048\n",
    "Conflict \t0.0490435140176\n",
    "U_Res   \t-0.065984525834\n",
    "\n",
    "\n",
    "# Excluding reactor data (noreactor_test)\n",
    "Auth    \t0.373356632574\n",
    "Mil_Iso \t0.232872309343\n",
    "En_Repr \t0.316654400789\n",
    "Sci_Net \t0.153276071934\n",
    "Mil_Sp  \t0.653810667907\n",
    "Conflict \t0.0612444298104\n",
    "U_Res   \t-0.0443418129507\n",
    "\n",
    "# Looking only at states that pursued after 1965 (postreactor_test)\n",
    "Auth    \t0.548561422466\n",
    "Mil_Iso \t0.261492965407\n",
    "Reactor \t-0.422998285844\n",
    "En_Repr \t0.410064930872\n",
    "Sci_Net \t-0.0317517512246\n",
    "Mil_Sp  \t0.569401466399\n",
    "Conflict \t-0.225465503146\n",
    "U_Res   \t-0.0924126508345\n",
    "\n",
    "# only looking at 1 and 2 (explore and pursue) \n",
    "# -- This doesn't make sense because PCA code must compare\n",
    "#    between states that did and did not pursue\n",
    "#\n",
    "Auth    \t-0.0146586038571\n",
    "Mil_Iso \t-0.175188768929\n",
    "Reactor \t0.12387733004\n",
    "En_Repr \t0.0173421993905\n",
    "Sci_Net \t0.301624673409\n",
    "Mil_Sp  \t0.611843446272\n",
    "Conflict \t0.410526315789\n",
    "U_Res   \t-0.0173421993905"
   ]
  },
  {
   "cell_type": "code",
   "execution_count": 5,
   "metadata": {
    "collapsed": false,
    "scrolled": true
   },
   "outputs": [
    {
     "name": "stdout",
     "output_type": "stream",
     "text": [
      "[ 0.37  0.23  0.55  0.32  0.15  0.65  0.82 -0.04]\n",
      "('Auth   ', '\\t', 0.12051507520365551)\n",
      "('Mil_Iso', '\\t', 0.075168408499627956)\n",
      "('Reactor', '\\t', 0.17658932571063155)\n",
      "('En_Repr', '\\t', 0.10221226997261315)\n",
      "('Sci_Net', '\\t', 0.049475690866298265)\n",
      "('Mil_Sp ', '\\t', 0.21104229826749007)\n",
      "('Conflict', '\\t', 0.26499693147968356)\n",
      "('U_Res  ', '\\t', 0.0)\n"
     ]
    }
   ],
   "source": [
    "print(factor)\n",
    "\n",
    "weights = factor\n",
    "weights[factor < correl_min] = 0\n",
    "f_tot = weights.sum()\n",
    "weights = weights/f_tot  # normalize weights to sum to one\n",
    "\n",
    "for i in range(len(weights)):\n",
    "    print(f_list[i], \"\\t\", weights[i])"
   ]
  },
  {
   "cell_type": "code",
   "execution_count": 6,
   "metadata": {
    "collapsed": false,
    "scrolled": false
   },
   "outputs": [
    {
     "name": "stdout",
     "output_type": "stream",
     "text": [
      "('Belarus', '\\t', 4.4081)\n",
      "('Germany', '\\t', 2.469)\n",
      "('Japan', '\\t', 3.0346)\n",
      "('Armenia', '\\t', 5.0012)\n",
      "('Belgium', '\\t', 0.9708)\n",
      "('Bulgar', '\\t', 2.3579)\n",
      "('Canada', '\\t', 1.1818)\n",
      "('Czech-R', '\\t', 1.2984)\n",
      "('Finland', '\\t', 2.5047)\n",
      "('Hungary', '\\t', 1.6171)\n",
      "('Kazak', '\\t', 3.0794)\n",
      "('Lithua', '\\t', 3.0643)\n",
      "('Mexico', '\\t', 2.0287)\n",
      "('Nether', '\\t', 2.7337)\n",
      "('Saudi-A', '\\t', 6.5442)\n",
      "('Slovak', '\\t', 1.8282)\n",
      "('Spain', '\\t', 1.5632)\n",
      "('Ukraine', '\\t', 3.1507)\n",
      "('UAE', '\\t', 6.3051)\n",
      "('Sweden', '\\t', 1.9749)\n",
      "('Switz', '\\t', 1.4989)\n",
      "('Indones', '\\t', 2.675)\n",
      "('Algeria', '\\t', 4.8847)\n",
      "('Romania', '\\t', 2.2097)\n",
      "('Sweden', '\\t', 4.796)\n",
      "('Switz', '\\t', 4.4279)\n",
      "('Indones', '\\t', 4.4407)\n",
      "('Algeria', '\\t', 6.6426)\n",
      "('Romania', '\\t', 4.4948)\n",
      "('Austral', '\\t', 3.8757)\n",
      "('Egypt', '\\t', 7.273)\n",
      "('Libya', '\\t', 7.4493)\n",
      "('S-Korea', '\\t', 4.3643)\n",
      "('Argent', '\\t', 6.0935)\n",
      "('Brazil', '\\t', 4.2875)\n",
      "('Iraq', '\\t', 8.1545)\n",
      "('Iran', '\\t', 8.323)\n",
      "('Syria', '\\t', 6.8914)\n",
      "('US', '\\t', 6.4872)\n",
      "('USSR', '\\t', 8.859)\n",
      "('UK', '\\t', 5.8464)\n",
      "('France', '\\t', 6.7933)\n",
      "('China', '\\t', 6.3277)\n",
      "('Israel', '\\t', 6.1962)\n",
      "('India', '\\t', 6.4368)\n",
      "('Pakist', '\\t', 5.2904)\n",
      "('S-Afric', '\\t', 5.8925)\n",
      "('N-Korea', '\\t', 7.7035)\n",
      "('US', '\\t', 6.538)\n",
      "('USSR', '\\t', 8.594)\n",
      "('UK', '\\t', 6.3385)\n",
      "('France', '\\t', 5.4125)\n",
      "('China', '\\t', 7.0116)\n",
      "('Israel', '\\t', 6.4233)\n",
      "('India', '\\t', 4.4657)\n",
      "('Pakist', '\\t', 6.2646)\n",
      "('S-Afric', '\\t', 5.2083)\n",
      "('N-Korea', '\\t', 7.1042)\n"
     ]
    }
   ],
   "source": [
    "from gen_fns import get_data\n",
    "from hist_bench import calc_pursuit\n",
    "\n",
    "#factor_weights = np.array([0.15, 0.1, 0.16, 0.09, 0.1,0.1, 0.15, 0.15])\n",
    "\n",
    "countries, col_names, all_vals = get_data(filename, n_header=1, col_list=range(2,11))\n",
    "status = all_vals[:,0]\n",
    "raw_data = np.delete(all_vals, 0, 1)\n",
    "all_pe_vals = calc_pursuit(raw_data, weights)\n",
    "\n",
    "for i in range(len(countries)):\n",
    "    print(countries[i], \"\\t\", all_pe_vals[i])\n"
   ]
  },
  {
   "cell_type": "raw",
   "metadata": {},
   "source": [
    "            Chris  Historical Results\n",
    "Auth    \t0.15   0.208437699671\n",
    "Mil_Iso \t0.10   0.130008051932\n",
    "Reactor \t0.10   0.0\n",
    "En_Repr \t0.16   0.176781953588\n",
    "Sci_Net \t0.10   0.0855710306482\n",
    "Mil_Sp  \t0.15   0.365009697831\n",
    "Conflict \t0.10   0.0341915663299\n",
    "U_Res   \t0.09   0.0"
   ]
  },
  {
   "cell_type": "code",
   "execution_count": 18,
   "metadata": {
    "collapsed": false,
    "scrolled": false
   },
   "outputs": [
    {
     "name": "stdout",
     "output_type": "stream",
     "text": [
      "USSR & 1945 & \\color{red}{8.9} \\\\\n",
      "Iran & 1985 & \\color{red}{8.3} \\\\\n",
      "Iraq & 1983 & \\color{red}{8.2} \\\\\n",
      "N-Korea & 1980 & \\color{red}{7.7} \\\\\n",
      "Libya & 1970 & \\color{red}{7.4} \\\\\n",
      "Egypt & 1965 & \\color{red}{7.3} \\\\\n",
      "Syria & 2000 & \\color{red}{6.9} \\\\\n",
      "France & 1954 & \\color{red}{6.8} \\\\\n",
      "Algeria & 1983 & \\color{red}{6.6} \\\\\n",
      "Saudi-A & 2015 & 6.5 \\\\\n",
      "US & 1942 & \\color{red}{6.5} \\\\\n",
      "India & 1964 & \\color{red}{6.4} \\\\\n",
      "China & 1955 & \\color{red}{6.3} \\\\\n",
      "UAE & 2015 & 6.3 \\\\\n",
      "Israel & 1960 & \\color{red}{6.2} \\\\\n",
      "Argent & 1978 & \\color{red}{6.1} \\\\\n",
      "S-Afric & 1974 & \\color{red}{5.9} \\\\\n",
      "UK & 1947 & \\color{red}{5.8} \\\\\n",
      "Pakist & 1972 & \\color{red}{5.3} \\\\\n",
      "Armenia & 2015 & 5.0 \\\\\n",
      "Algeria & 2015 & 4.9 \\\\\n",
      "Sweden & 1946 & \\color{red}{4.8} \\\\\n",
      "Romania & 1985 & \\color{red}{4.5} \\\\\n",
      "Indones & 1965 & \\color{red}{4.4} \\\\\n",
      "Switz & 1946 & \\color{red}{4.4} \\\\\n",
      "Belarus & 2015 & 4.4 \\\\\n",
      "S-Korea & 1970 & \\color{red}{4.4} \\\\\n",
      "Brazil & 1978 & \\color{red}{4.3} \\\\\n",
      "Austral & 1961 & \\color{red}{3.9} \\\\\n",
      "Ukraine & 2015 & 3.2 \\\\\n",
      "Kazak & 2015 & 3.1 \\\\\n",
      "Lithua & 2015 & 3.1 \\\\\n",
      "Japan & 2015 & 3.0 \\\\\n",
      "Nether & 2015 & 2.7 \\\\\n",
      "Indones & 2015 & 2.7 \\\\\n",
      "Finland & 2015 & 2.5 \\\\\n",
      "Germany & 2015 & 2.5 \\\\\n",
      "Bulgar & 2015 & 2.4 \\\\\n",
      "Romania & 2015 & 2.2 \\\\\n",
      "Mexico & 2015 & 2.0 \\\\\n",
      "Sweden & 2015 & 2.0 \\\\\n",
      "Slovak & 2015 & 1.8 \\\\\n",
      "Hungary & 2015 & 1.6 \\\\\n",
      "Spain & 2015 & 1.6 \\\\\n",
      "Switz & 2015 & 1.5 \\\\\n",
      "Czech-R & 2015 & 1.3 \\\\\n",
      "Canada & 2015 & 1.2 \\\\\n",
      "Belgium & 2015 & 1.0 \\\\\n"
     ]
    }
   ],
   "source": [
    "data_file = open(filename, 'r')\n",
    "lines = data_file.readlines()\n",
    "my_countries = []\n",
    "my_years = []\n",
    "my_rawdata = []\n",
    "my_color_tracker = []\n",
    "for line in lines[1:]:\n",
    "    words = line.split('\\t');\n",
    "    if ((float(words[2]) >= mn_status) and (float(words[2]) <= mx_status)):\n",
    "        if (float(words[2]) == mn_status):\n",
    "            my_color_tracker.append(0)\n",
    "        else:\n",
    "            my_color_tracker.append(1)\n",
    "        my_countries.append(words[0])\n",
    "        my_years.append(words[1])\n",
    "        weight = words[3:]\n",
    "        weight = [float(i) for i in weight]\n",
    "        my_rawdata.append(weight)\n",
    "my_rawdata = np.asarray( my_rawdata)\n",
    "\n",
    "my_score = calc_pursuit(my_rawdata, weights)   \n",
    "\n",
    "    \n",
    "my_years_sorted =  [x for y, x in sorted(zip(my_score, my_years), reverse=True)]\n",
    "my_countries_sorted =  [x for y, x in sorted(zip(my_score, my_countries), reverse=True)]\n",
    "my_color_tracker =  [x for y, x in sorted(zip(my_score, my_color_tracker), reverse=True)]\n",
    "my_score_sorted = sorted(my_score, reverse=True)\n",
    "for i in range(len(my_countries_sorted)):\n",
    "    score_str = str(round(my_score_sorted[i],1))\n",
    "    if (my_color_tracker[i] == 1):\n",
    "        score_str = \"\\color{red}{\" + score_str + \"}\"\n",
    "    print my_countries_sorted[i], \"&\", my_years_sorted[i], \"&\", score_str, \"\\\\\\\\\""
   ]
  },
  {
   "cell_type": "code",
   "execution_count": null,
   "metadata": {
    "collapsed": true,
    "scrolled": true
   },
   "outputs": [],
   "source": []
  },
  {
   "cell_type": "code",
   "execution_count": null,
   "metadata": {
    "collapsed": true
   },
   "outputs": [],
   "source": []
  },
  {
   "cell_type": "code",
   "execution_count": null,
   "metadata": {
    "collapsed": true
   },
   "outputs": [],
   "source": []
  }
 ],
 "metadata": {
  "kernelspec": {
   "display_name": "Python 2",
   "language": "python",
   "name": "python2"
  },
  "language_info": {
   "codemirror_mode": {
    "name": "ipython",
    "version": 2
   },
   "file_extension": ".py",
   "mimetype": "text/x-python",
   "name": "python",
   "nbconvert_exporter": "python",
   "pygments_lexer": "ipython2",
   "version": "2.7.10"
  }
 },
 "nbformat": 4,
 "nbformat_minor": 1
}
