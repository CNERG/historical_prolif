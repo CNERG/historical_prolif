{
 "cells": [
  {
   "cell_type": "code",
   "execution_count": 24,
   "metadata": {
    "collapsed": false
   },
   "outputs": [],
   "source": [
    "import correlation_matrix as co\n",
    "import numpy as np"
   ]
  },
  {
   "cell_type": "code",
   "execution_count": 25,
   "metadata": {
    "collapsed": false
   },
   "outputs": [
    {
     "name": "stdout",
     "output_type": "stream",
     "text": [
      "Auth    \t0.373356632574\n",
      "Mil_Iso \t0.232872309343\n",
      "Reactor \t-0.547075093173\n",
      "En_Repr \t0.316654400789\n",
      "Sci_Net \t0.153276071934\n",
      "Mil_Sp  \t0.653810667907\n",
      "Conflict \t0.0612444298104\n",
      "U_Res   \t-0.0443418129507\n"
     ]
    }
   ],
   "source": [
    "mn_status = 0 # do not use status = -1 (2015 data for states that gave up pursuit)\n",
    "mx_status = 2 # do not use status = 3 (acquire date results, not correlated to pursuit decision)\n",
    "correl_min = 1e-6 # correlation values below this (or negative) will be reset to zero, so they have no effect\n",
    "\n",
    "filename = 'historical_factors.csv'\n",
    "#filename = 'postreactor_test.csv'\n",
    "#filename = 'noreactor_test.csv'\n",
    "data_file = open(filename, 'r')\n",
    "full_matrix = np.loadtxt(data_file, skiprows=1,usecols=(2,3,4,5,6,7,8,9,10))\n",
    "#full_matrix = np.loadtxt(data_file, skiprows=1,usecols=(2,3,4,5,6,7,8,9))\n",
    "relevant_mask = ((full_matrix[:,0] >= mn_status) & (full_matrix[:,0] <= mx_status))\n",
    "matrix = full_matrix[relevant_mask]\n",
    "\n",
    "cor = co.Cor_matrix(matrix)\n",
    "factor = np.array(cor[0,1:])[0]\n",
    "f_list = (\"Auth   \", \"Mil_Iso\", \"Reactor\", \"En_Repr\",  \"Sci_Net\", \"Mil_Sp \", \"Conflict\",\"U_Res  \")\n",
    "#f_list = (\"Auth   \", \"Mil_Iso\", \"En_Repr\",  \"Sci_Net\", \"Mil_Sp \", \"Conflict\",\"U_Res  \")\n",
    "\n",
    "for i in range(len(factor)):\n",
    "    print f_list[i], \"\\t\", factor[i]\n"
   ]
  },
  {
   "cell_type": "code",
   "execution_count": 26,
   "metadata": {
    "collapsed": false,
    "scrolled": false
   },
   "outputs": [],
   "source": [
    "data_file = open(filename, 'r')\n",
    "lines = data_file.readlines()\n",
    "mn = 100\n",
    "mx = 0\n",
    "for line in lines[1:]:\n",
    "    words = line.split('\\t');\n",
    "    name = words[0] + '_' + words[1]\n",
    "    # skip countries acquisition scores (status=3) because they aren't correlated to anything relevant here\n",
    "    # also skip -1's because the negative status may mess up the correlation and it's a marginally relevant dataset\n",
    "    if ((float(words[2]) >= mn_status) and (float(words[2]) <= mx_status)):\n",
    "        weight = words[3:]\n",
    "        weight = [float(i) for i in weight]\n",
    "        score = co.Compute_Score(weight,factor)\n",
    "        if (score < mn):\n",
    "            mn = score\n",
    "        elif (score > mx):\n",
    "            mx = score"
   ]
  },
  {
   "cell_type": "code",
   "execution_count": 27,
   "metadata": {
    "collapsed": false
   },
   "outputs": [
    {
     "name": "stdout",
     "output_type": "stream",
     "text": [
      "Country \t Cal \t Bib \t Dif\n",
      "Belarus_2015 \t13.0 \t0.0 \t\n",
      "Germany_2015 \t6.0 \t0.0 \t\n",
      "Japan_2015 \t7.0 \t0.0 \t\n",
      "Armenia_2015 \t13.0 \t0.0 \t\n",
      "Belgium_2015 \t0.0 \t0.0 \t\n",
      "Bulgar_2015 \t6.0 \t0.0 \t\n",
      "Canada_2015 \t1.0 \t0.0 \t\n",
      "Czech-R_2015 \t0.0 \t0.0 \t\n",
      "Finland_2015 \t6.0 \t0.0 \t\n",
      "Hungary_2015 \t1.0 \t0.0 \t\n",
      "Kazak_2015 \t8.0 \t0.0 \t\n",
      "Lithua_2015 \t9.0 \t0.0 \t\n",
      "Mexico_2015 \t5.0 \t0.0 \t\n",
      "Nether_2015 \t9.0 \t0.0 \t\n",
      "Saudi-A_2015 \t25.0 \t0.0 \t\n",
      "Slovak_2015 \t2.0 \t0.0 \t\n",
      "Spain_2015 \t2.0 \t0.0 \t\n",
      "Ukraine_2015 \t9.0 \t0.0 \t\n",
      "UAE_2015 \t24.0 \t0.0 \t\n",
      "Sweden_2015 \t3.0 \t0.0 \t\n",
      "Switz_2015 \t3.0 \t0.0 \t\n",
      "Indones_2015 \t7.0 \t0.0 \t\n",
      "Algeria_2015 \t16.0 \t0.0 \t\n",
      "Romania_2015 \t2.0 \t0.0 \t\n",
      "Sweden_1946 \t17.0 \t1.0 \t\n",
      "Switz_1946 \t14.0 \t1.0 \t\n",
      "Indones_1965 \t13.0 \t1.0 \t\n",
      "Algeria_1983 \t22.0 \t1.0 \t\n",
      "Romania_1985 \t13.0 \t1.0 \t\n",
      "Austral_1961 \t8.0 \t2.0 \t\n",
      "Egypt_1965 \t21.0 \t2.0 \t\n",
      "Libya_1970 \t24.0 \t2.0 \t\n",
      "S-Korea_1970 \t13.0 \t2.0 \t\n",
      "Argent_1978 \t18.0 \t2.0 \t\n",
      "Brazil_1978 \t12.0 \t2.0 \t\n",
      "Iraq_1983 \t27.0 \t2.0 \t\n",
      "Iran_1985 \t25.0 \t2.0 \t\n",
      "Syria_2000 \t21.0 \t2.0 \t\n",
      "US_1942 \t20.0 \t2.0 \t\n",
      "USSR_1945 \t30.0 \t2.0 \t\n",
      "UK_1947 \t19.0 \t2.0 \t\n",
      "France_1954 \t23.0 \t2.0 \t\n",
      "China_1955 \t21.0 \t2.0 \t\n",
      "Israel_1960 \t18.0 \t2.0 \t\n",
      "India_1964 \t18.0 \t2.0 \t\n",
      "Pakist_1972 \t16.0 \t2.0 \t\n",
      "S-Afric_1974 \t18.0 \t2.0 \t\n",
      "N-Korea_1980 \t24.0 \t2.0 \t\n"
     ]
    }
   ],
   "source": [
    "data_file = open(filename, 'r')\n",
    "lines = data_file.readlines()\n",
    "print( 'Country \\t Cal \\t Bib \\t Dif')\n",
    "for line in lines[1:]:\n",
    "    words = line.split('\\t');\n",
    "    name = words[0] + '_' + words[1]\n",
    "    if ((float(words[2]) >= mn_status) and (float(words[2]) <= mx_status)):\n",
    "        weight = words[3:]\n",
    "        weight = [float(i) for i in weight]\n",
    "        score = co.Compute_Score(weight,factor)\n",
    "        cal_sc = round((score - mn)/(mx -mn)*30)\n",
    "        print name, \"\\t\", cal_sc, '\\t', words[2],'\\t' #, cal_sc-(float(words[2])*10)"
   ]
  },
  {
   "cell_type": "raw",
   "metadata": {
    "collapsed": true
   },
   "source": [
    "# CORRECT FULL ASSESSMENT:\n",
    "# looking at 0,1,2 (includes countries that haven't pursued)\n",
    "Auth    \t0.373356632574\n",
    "Mil_Iso \t0.232872309343\n",
    "Reactor \t-0.547075093173\n",
    "En_Repr \t0.316654400789\n",
    "Sci_Net \t0.153276071934\n",
    "Mil_Sp  \t0.653810667907\n",
    "Conflict \t0.0612444298104\n",
    "U_Res   \t-0.0443418129507\n",
    "\n",
    "# Excluding US 1942(pursuit) from the analysis\n",
    "Auth    \t0.400954127305\n",
    "Mil_Iso \t0.227239545169\n",
    "Reactor \t-0.530719785766\n",
    "En_Repr \t0.338186538485\n",
    "Sci_Net \t0.123302270056\n",
    "Mil_Sp  \t0.642358825048\n",
    "Conflict \t0.0490435140176\n",
    "U_Res   \t-0.065984525834\n",
    "\n",
    "\n",
    "# Excluding reactor data (noreactor_test)\n",
    "Auth    \t0.373356632574\n",
    "Mil_Iso \t0.232872309343\n",
    "En_Repr \t0.316654400789\n",
    "Sci_Net \t0.153276071934\n",
    "Mil_Sp  \t0.653810667907\n",
    "Conflict \t0.0612444298104\n",
    "U_Res   \t-0.0443418129507\n",
    "\n",
    "# Looking only at states that pursued after 1965 (postreactor_test)\n",
    "Auth    \t0.548561422466\n",
    "Mil_Iso \t0.261492965407\n",
    "Reactor \t-0.422998285844\n",
    "En_Repr \t0.410064930872\n",
    "Sci_Net \t-0.0317517512246\n",
    "Mil_Sp  \t0.569401466399\n",
    "Conflict \t-0.225465503146\n",
    "U_Res   \t-0.0924126508345\n",
    "\n",
    "# only looking at 1 and 2 (explore and pursue) \n",
    "# -- This doesn't make sense because PCA code must compare\n",
    "#    between states that did and did not pursue\n",
    "#\n",
    "Auth    \t-0.0146586038571\n",
    "Mil_Iso \t-0.175188768929\n",
    "Reactor \t0.12387733004\n",
    "En_Repr \t0.0173421993905\n",
    "Sci_Net \t0.301624673409\n",
    "Mil_Sp  \t0.611843446272\n",
    "Conflict \t0.410526315789\n",
    "U_Res   \t-0.0173421993905"
   ]
  },
  {
   "cell_type": "code",
   "execution_count": 28,
   "metadata": {
    "collapsed": false
   },
   "outputs": [
    {
     "name": "stdout",
     "output_type": "stream",
     "text": [
      "[ 0.37  0.23 -0.55  0.32  0.15  0.65  0.06 -0.04]\n",
      "Auth    \t0.208437699671\n",
      "Mil_Iso \t0.130008051932\n",
      "Reactor \t0.0\n",
      "En_Repr \t0.176781953588\n",
      "Sci_Net \t0.0855710306482\n",
      "Mil_Sp  \t0.365009697831\n",
      "Conflict \t0.0341915663299\n",
      "U_Res   \t0.0\n"
     ]
    }
   ],
   "source": [
    "print factor\n",
    "\n",
    "weights = factor\n",
    "weights[factor < correl_min] = 0\n",
    "f_tot = weights.sum()\n",
    "weights = weights/f_tot  # normalize weights to sum to one\n",
    "\n",
    "for i in range(len(weights)):\n",
    "    print f_list[i], \"\\t\", weights[i]"
   ]
  },
  {
   "cell_type": "code",
   "execution_count": 29,
   "metadata": {
    "collapsed": false
   },
   "outputs": [
    {
     "name": "stdout",
     "output_type": "stream",
     "text": [
      "Belarus \t4.1291\n",
      "Germany \t3.5929\n",
      "Japan \t4.0445\n",
      "Armenia \t4.341\n",
      "Belgium \t1.4943\n",
      "Bulgar \t1.5342\n",
      "Canada \t1.8251\n",
      "Czech-R \t1.5684\n",
      "Finland \t2.7384\n",
      "Hungary \t1.1692\n",
      "Kazak \t3.664\n",
      "Lithua \t1.5342\n",
      "Mexico \t2.305\n",
      "Nether \t3.6271\n",
      "Saudi-A \t7.7396\n",
      "Slovak \t1.5342\n",
      "Spain \t1.5342\n",
      "Ukraine \t4.7719\n",
      "UAE \t7.3602\n",
      "Sweden \t2.7384\n",
      "Switz \t2.3392\n",
      "Indones \t2.0825\n",
      "Algeria \t5.4118\n",
      "Romania \t1.3116\n",
      "Sweden \t4.4951\n",
      "Switz \t3.4001\n",
      "Indones \t4.2539\n",
      "Algeria \t6.3138\n",
      "Romania \t5.1953\n",
      "Austral \t2.7842\n",
      "Egypt \t6.8609\n",
      "Libya \t6.7925\n",
      "S-Korea \t4.1219\n",
      "Argent \t7.0438\n",
      "Brazil \t3.9207\n",
      "Iraq \t9.3023\n",
      "Iran \t8.677\n",
      "Syria \t7.0492\n",
      "US \t5.6552\n",
      "USSR \t9.299\n",
      "UK \t5.0735\n",
      "France \t6.643\n",
      "China \t5.906\n",
      "Israel \t5.9152\n",
      "India \t6.3313\n",
      "Pakist \t5.2652\n",
      "S-Afric \t6.2382\n",
      "N-Korea \t8.5222\n",
      "US \t7.423\n",
      "USSR \t9.299\n",
      "UK \t6.8414\n",
      "France \t6.9198\n",
      "China \t8.7005\n",
      "Israel \t7.7856\n",
      "India \t6.588\n",
      "Pakist \t7.8668\n",
      "S-Afric \t7.025\n",
      "N-Korea \t8.8265\n",
      "Austral \t2.0884\n",
      "Egypt \t5.34\n",
      "Libya \t5.3334\n",
      "S-Korea \t4.8429\n",
      "Argent \t3.3225\n",
      "Brazil \t4.0445\n",
      "Iraq \t4.3068\n",
      "Iran \t6.6953\n",
      "Syria \t6.4394\n"
     ]
    }
   ],
   "source": [
    "from gen_fns import get_data\n",
    "from hist_bench import calc_pursuit\n",
    "\n",
    "#factor_weights = np.array([0.15, 0.1, 0.16, 0.09, 0.1,0.1, 0.15, 0.15])\n",
    "\n",
    "countries, col_names, all_vals = get_data(filename, n_header=1, col_list=range(2,11))\n",
    "status = all_vals[:,0]\n",
    "raw_data = np.delete(all_vals, 0, 1)\n",
    "all_pe_vals = calc_pursuit(raw_data, weights)\n",
    "\n",
    "for i in range(len(countries)):\n",
    "    print countries[i], \"\\t\", all_pe_vals[i]\n"
   ]
  },
  {
   "cell_type": "raw",
   "metadata": {},
   "source": [
    "            Chris  Historical Results\n",
    "Auth    \t0.15   0.208437699671\n",
    "Mil_Iso \t0.10   0.130008051932\n",
    "Reactor \t0.10   0.0\n",
    "En_Repr \t0.16   0.176781953588\n",
    "Sci_Net \t0.10   0.0855710306482\n",
    "Mil_Sp  \t0.15   0.365009697831\n",
    "Conflict \t0.10   0.0341915663299\n",
    "U_Res   \t0.09   0.0"
   ]
  }
 ],
 "metadata": {
  "kernelspec": {
   "display_name": "Python 2",
   "language": "python",
   "name": "python2"
  },
  "language_info": {
   "codemirror_mode": {
    "name": "ipython",
    "version": 2
   },
   "file_extension": ".py",
   "mimetype": "text/x-python",
   "name": "python",
   "nbconvert_exporter": "python",
   "pygments_lexer": "ipython2",
   "version": "2.7.10"
  }
 },
 "nbformat": 4,
 "nbformat_minor": 1
}
